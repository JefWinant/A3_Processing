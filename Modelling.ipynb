{
 "cells": [
  {
   "cell_type": "markdown",
   "id": "b020431e",
   "metadata": {},
   "source": [
    "# Loading Data"
   ]
  },
  {
   "cell_type": "code",
   "execution_count": 1,
   "id": "7418a5c6",
   "metadata": {},
   "outputs": [
    {
     "name": "stdout",
     "output_type": "stream",
     "text": [
      "+-------+-----+---------+--------------------+\n",
      "| app_id|label|review_id|         review_text|\n",
      "+-------+-----+---------+--------------------+\n",
      "|2248580|    1|136512581|A Delightful and ...|\n",
      "|1934040|    1|136513114|This is the only ...|\n",
      "|2334560|    0|136513050|The concept and a...|\n",
      "|1400910|    1|136514066|Waited for 1.0 to...|\n",
      "|2248580|    1|136512233|OMG, this game is...|\n",
      "|2364250|    1|136512230|It's like a tough...|\n",
      "|1409300|    0|136513866|This game suppose...|\n",
      "|1729900|    1|135237351|[h1]Before I play...|\n",
      "|1729900|    1|122580797|cool, has potenti...|\n",
      "|1729900|    1|125559837|ms paint rhythm m...|\n",
      "|1729900|    0|121230865|Rhythm Brawl, unl...|\n",
      "|1729900|    1|121311975|I get more points...|\n",
      "|1729900|    0|118681190|Rhythm Brawl is a...|\n",
      "|1729900|    0|119682629|Now let me get th...|\n",
      "|1729900|    1|116989907|Hey. It's really ...|\n",
      "|1729900|    1|114308657|Although I found ...|\n",
      "|1729900|    1|115583159|When I first play...|\n",
      "|1729900|    1|116734222|Its not finished ...|\n",
      "|1729900|    1|115760983|I GOT THIS GAME F...|\n",
      "|1729900|    0|114186754|                4/10|\n",
      "+-------+-----+---------+--------------------+\n",
      "only showing top 20 rows\n",
      "\n",
      "890\n"
     ]
    }
   ],
   "source": [
    "#loading all gathered data\n",
    "path = r\"C:\\Users\\jef-w\\Desktop\\Uni\\KUL\\Year_1\\Advanced_Analytics\\Assignments\\Assignment_3\\spark\\notebooks\\Processed_Data\\full_data_csv\"\n",
    "df = spark.read.format(\"csv\").option(\"header\",\"true\").load(path)\n",
    "df.show()\n",
    "print(df.count())"
   ]
  },
  {
   "cell_type": "code",
   "execution_count": 2,
   "id": "4e5f3f68",
   "metadata": {},
   "outputs": [],
   "source": [
    "# full dataset too big apparently\n",
    "df_small = df.sample(fraction=0.55, seed=123)"
   ]
  },
  {
   "cell_type": "code",
   "execution_count": 3,
   "id": "df95dcd0",
   "metadata": {},
   "outputs": [],
   "source": [
    "#train-validation-test split\n",
    "\n",
    "from pyspark.ml.tuning import TrainValidationSplit\n",
    "\n",
    "train, test = df_small.randomSplit([0.6, 0.4], seed=1)"
   ]
  },
  {
   "cell_type": "code",
   "execution_count": 4,
   "id": "a19b97df",
   "metadata": {},
   "outputs": [
    {
     "name": "stdout",
     "output_type": "stream",
     "text": [
      "+-----+-----+\n",
      "|label|count|\n",
      "+-----+-----+\n",
      "|    1|  400|\n",
      "| null|  479|\n",
      "|    0|   79|\n",
      "+-----+-----+\n",
      "\n"
     ]
    }
   ],
   "source": [
    "# proportion of labels\n",
    "df_small.cube(\"label\").count().show() \n",
    "\n",
    "# VERY UNBALANCED!!! -> use prediction-recall\n",
    "\n",
    "#0 is rare -> flip labels maybe? -> leads to horrible performance"
   ]
  },
  {
   "cell_type": "markdown",
   "id": "48bd035b",
   "metadata": {},
   "source": [
    "# Model Pipelines"
   ]
  },
  {
   "cell_type": "code",
   "execution_count": 5,
   "id": "6f5a8dc4",
   "metadata": {},
   "outputs": [],
   "source": [
    "from pyspark.ml import Pipeline\n",
    "from pyspark.sql import functions as F"
   ]
  },
  {
   "cell_type": "code",
   "execution_count": 6,
   "id": "e80cc667",
   "metadata": {},
   "outputs": [],
   "source": [
    "# Text cleaners, remove line-braks and non-alphanumeric characters\n",
    "from pyspark.ml.feature import SQLTransformer\n",
    "remove_newlines = \"SELECT *, REPLACE(review_text, '\\n', ' ') AS cleaner_text FROM __THIS__\"\n",
    "un_newline_inator = SQLTransformer(\n",
    "    statement=remove_newlines\n",
    ")\n",
    "\n",
    "remove_junk = \"SELECT *, REGEXP_REPLACE(review_text, '[^A-Za-z0-9 ]', ' ') AS cleaned_text FROM __THIS__\"\n",
    "un_junk_inator = SQLTransformer(\n",
    "    statement=remove_junk\n",
    ")"
   ]
  },
  {
   "cell_type": "code",
   "execution_count": 7,
   "id": "8359546f",
   "metadata": {},
   "outputs": [],
   "source": [
    "#convert to tokens, remove stopwords\n",
    "from pyspark.ml.feature import Tokenizer, StopWordsRemover\n",
    "tokenizer = Tokenizer(inputCol=\"cleaned_text\",outputCol=\"words\")\n",
    "remover = StopWordsRemover(inputCol=\"words\",outputCol=\"filtered_words\")\n",
    "\n",
    "#add original review length as variable\n",
    "length_inator = SQLTransformer(\n",
    "    statement=\"SELECT *, LENGTH(cleaned_text) AS text_length FROM __THIS__\"\n",
    ")            "
   ]
  },
  {
   "cell_type": "code",
   "execution_count": 8,
   "id": "6889971f",
   "metadata": {},
   "outputs": [],
   "source": [
    "#word2vec encoder\n",
    "from pyspark.ml.feature import Word2Vec\n",
    "word2vec = Word2Vec(vectorSize=2, minCount=0, inputCol=\"filtered_words\", outputCol=\"vectors\")"
   ]
  },
  {
   "cell_type": "code",
   "execution_count": 17,
   "id": "d6d40453",
   "metadata": {},
   "outputs": [],
   "source": [
    "from pyspark.ml.feature import VectorAssembler\n",
    "from pyspark.ml.feature import StringIndexer\n",
    "# Assemble word length and word2vec vector into one feature\n",
    "assembler = VectorAssembler(\n",
    "    inputCols=[\"text_length\", \"vectors\"],\n",
    "    outputCol=\"features\")\n",
    "\n",
    "#label column is string type for some reason, change to integer\n",
    "strindex = StringIndexer(inputCol=\"label\",outputCol=\"label_index\",handleInvalid='error',stringOrderType='frequencyAsc') \n",
    "# set to 'frequencyDesc' to flip labels\n",
    "\n",
    "#remove all unnecessary features from model\n",
    "remove_features = \"SELECT label_index AS label,features,review_id FROM __THIS__\"\n",
    "final_features_inator = SQLTransformer(\n",
    "    statement=remove_features\n",
    ")"
   ]
  },
  {
   "cell_type": "code",
   "execution_count": 18,
   "id": "3c37f8d9",
   "metadata": {},
   "outputs": [],
   "source": [
    "#MODELS\n",
    "\n",
    "# Logistic regression\n",
    "from pyspark.ml.classification import LogisticRegression\n",
    "logr = LogisticRegression(labelCol=\"label\", featuresCol=\"features\",probabilityCol=\"pred\",maxIter = 100)\n",
    "\n",
    "# Decision tree\n",
    "from pyspark.ml.classification import DecisionTreeClassifier\n",
    "dt = DecisionTreeClassifier(labelCol=\"label\", featuresCol=\"features\",probabilityCol=\"pred\", seed=1234)\n",
    "\n",
    "#random forest\n",
    "from pyspark.ml.classification import RandomForestClassifier\n",
    "rf = RandomForestClassifier(labelCol=\"label\", featuresCol=\"features\", probabilityCol=\"pred\",numTrees=10, seed=1234)\n",
    "\n",
    "#gradient-boosted tree\n",
    "from pyspark.ml.classification import GBTClassifier\n",
    "gbt = GBTClassifier(labelCol=\"label\", featuresCol=\"features\", seed=1234)\n",
    "gbt = gbt.setMaxIter(20)\n",
    "gbt = gbt.setProbabilityCol(\"pred\")\n",
    "\n",
    "# Multilayer perceptron\n",
    "from pyspark.ml.classification import MultilayerPerceptronClassifier\n",
    "layers = [3,3,2]\n",
    "mlp = MultilayerPerceptronClassifier(labelCol=\"label\", featuresCol=\"features\", \n",
    "                                     probabilityCol=\"pred\",maxIter=100, layers=layers, blockSize=128, seed=1234)"
   ]
  },
  {
   "cell_type": "code",
   "execution_count": 19,
   "id": "201560cd",
   "metadata": {},
   "outputs": [],
   "source": [
    "#PIPELINES\n",
    "from pyspark.ml import Pipeline\n",
    "pipeline_logr = Pipeline(stages=[un_newline_inator,un_junk_inator,tokenizer,remover,\n",
    "                               length_inator,word2vec,assembler,strindex,\n",
    "                               final_features_inator, logr])\n",
    "pipeline_dt = Pipeline(stages=[un_newline_inator,un_junk_inator,tokenizer,remover,\n",
    "                               length_inator,word2vec,assembler,strindex,\n",
    "                               final_features_inator, dt])\n",
    "pipeline_rf = Pipeline(stages=[un_newline_inator,un_junk_inator,tokenizer,remover,\n",
    "                               length_inator,word2vec,assembler,strindex,\n",
    "                               final_features_inator, rf])\n",
    "pipeline_gbt = Pipeline(stages=[un_newline_inator,un_junk_inator,tokenizer,remover,\n",
    "                               length_inator,word2vec,assembler,strindex,\n",
    "                               final_features_inator, gbt])\n",
    "pipeline_mlp = Pipeline(stages=[un_newline_inator,un_junk_inator,tokenizer,remover,\n",
    "                               length_inator,word2vec,assembler,strindex,\n",
    "                               final_features_inator, mlp])"
   ]
  },
  {
   "cell_type": "markdown",
   "id": "30d9b811",
   "metadata": {},
   "source": [
    "## Logistic Regression"
   ]
  },
  {
   "cell_type": "code",
   "execution_count": 12,
   "id": "a4477a78",
   "metadata": {},
   "outputs": [],
   "source": [
    "#tuning of hyperparameters logistic regression\n",
    "from pyspark.ml.evaluation import BinaryClassificationEvaluator\n",
    "from pyspark.ml.tuning import ParamGridBuilder, TrainValidationSplit\n",
    "paramGrid = ParamGridBuilder() \\\n",
    "    .addGrid(word2vec.vectorSize, [2,3,4,5,6,7,8,9,10])\\\n",
    "    .addGrid(logr.regParam, [0.0,0.025,0.05,0.075,1.0])\\\n",
    "    .addGrid(logr.elasticNetParam,[0.0,0.025,0.05,0.075,1.0])\\\n",
    "    .build()\n",
    "\n",
    "#[2,3,4,5,6,7,8,9,10]\n",
    "#[0.0,0.025,0.05,0.075,1.0]\n",
    "#[0.0,0.025,0.05,0.075,1.0]\n",
    "tvs_logr = TrainValidationSplit(estimator=pipeline_logr,\n",
    "                           estimatorParamMaps=paramGrid,\n",
    "                           evaluator=BinaryClassificationEvaluator(),\n",
    "                           # 80% of the data will be used for training, 20% for validation.\n",
    "                           trainRatio=0.8)\n",
    "model_logr = tvs_logr.fit(train)"
   ]
  },
  {
   "cell_type": "code",
   "execution_count": 13,
   "id": "8d41bf3b",
   "metadata": {},
   "outputs": [
    {
     "name": "stdout",
     "output_type": "stream",
     "text": [
      "AUPRC:  0.8819122209694511\n"
     ]
    }
   ],
   "source": [
    "#Calculate area under Precision-Recall curve\n",
    "from pyspark.ml.evaluation import BinaryClassificationEvaluator\n",
    "results_logr = model_logr.transform(test)\n",
    "evaluator = BinaryClassificationEvaluator(labelCol=\"label\", rawPredictionCol =\"rawPrediction\", metricName=\"areaUnderPR\")\n",
    "\n",
    "aupr_logr = evaluator.evaluate(results_logr)\n",
    "print(\"AUPRC: \",aupr_logr)"
   ]
  },
  {
   "cell_type": "code",
   "execution_count": 14,
   "id": "5bf7ef9e",
   "metadata": {},
   "outputs": [
    {
     "name": "stdout",
     "output_type": "stream",
     "text": [
      "Best word2vec dimension:  10\n",
      "Best Logistic Regression Regularization Parameter:  0.0\n",
      "Best Logistic Regression Elastic Net Parameter:  0.0\n"
     ]
    }
   ],
   "source": [
    "#Best Model Parameters\n",
    "best_model = model_logr.bestModel\n",
    "best_word2vec_param = best_model.stages[5].extractParamMap().get(word2vec.vectorSize)\n",
    "best_logr_params = best_model.stages[9].extractParamMap()\n",
    "\n",
    "print(\"Best word2vec dimension: \", best_word2vec_param )\n",
    "print(\"Best Logistic Regression Regularization Parameter: \", best_logr_params.get(logr.regParam))\n",
    "print(\"Best Logistic Regression Elastic Net Parameter: \", best_logr_params.get(logr.elasticNetParam))\n"
   ]
  },
  {
   "cell_type": "code",
   "execution_count": 1,
   "id": "be640a1b",
   "metadata": {},
   "outputs": [
    {
     "ename": "NameError",
     "evalue": "name 'model_logr' is not defined",
     "output_type": "error",
     "traceback": [
      "\u001b[1;31m---------------------------------------------------------------------------\u001b[0m",
      "\u001b[1;31mNameError\u001b[0m                                 Traceback (most recent call last)",
      "Cell \u001b[1;32mIn[1], line 2\u001b[0m\n\u001b[0;32m      1\u001b[0m \u001b[38;5;66;03m#calculate optimal threshold, and set on best model\u001b[39;00m\n\u001b[1;32m----> 2\u001b[0m training_summary_logr \u001b[38;5;241m=\u001b[39m \u001b[43mmodel_logr\u001b[49m\u001b[38;5;241m.\u001b[39mbestModel\u001b[38;5;241m.\u001b[39mstages[\u001b[38;5;241m9\u001b[39m]\u001b[38;5;241m.\u001b[39msummary\n\u001b[0;32m      3\u001b[0m fMeasure \u001b[38;5;241m=\u001b[39m training_summary_logr\u001b[38;5;241m.\u001b[39mfMeasureByThreshold\n\u001b[0;32m      4\u001b[0m maxFMeasure \u001b[38;5;241m=\u001b[39m fMeasure\u001b[38;5;241m.\u001b[39mgroupBy()\u001b[38;5;241m.\u001b[39mmax(\u001b[38;5;124m'\u001b[39m\u001b[38;5;124mF-Measure\u001b[39m\u001b[38;5;124m'\u001b[39m)\u001b[38;5;241m.\u001b[39mselect(\u001b[38;5;124m'\u001b[39m\u001b[38;5;124mmax(F-Measure)\u001b[39m\u001b[38;5;124m'\u001b[39m)\u001b[38;5;241m.\u001b[39mhead()\n",
      "\u001b[1;31mNameError\u001b[0m: name 'model_logr' is not defined"
     ]
    }
   ],
   "source": [
    "#calculate optimal threshold, and set on best model\n",
    "training_summary_logr = model_logr.bestModel.stages[9].summary\n",
    "fMeasure = training_summary_logr.fMeasureByThreshold\n",
    "maxFMeasure = fMeasure.groupBy().max('F-Measure').select('max(F-Measure)').head()\n",
    "best_logr_Threshold = fMeasure.where(fMeasure['F-Measure'] == maxFMeasure['max(F-Measure)']) \\\n",
    "    .select('threshold').head()['threshold']\n",
    "print(best_logr_Threshold)"
   ]
  },
  {
   "cell_type": "code",
   "execution_count": 16,
   "id": "63f7add4",
   "metadata": {},
   "outputs": [
    {
     "data": {
      "text/plain": [
       "LogisticRegressionModel: uid=LogisticRegression_30d20a94fabf, numClasses=2, numFeatures=11"
      ]
     },
     "execution_count": 16,
     "metadata": {},
     "output_type": "execute_result"
    }
   ],
   "source": [
    "model_logr.bestModel.stages[9].setThreshold(best_logr_Threshold)"
   ]
  },
  {
   "cell_type": "code",
   "execution_count": 17,
   "id": "c2d74cfb",
   "metadata": {},
   "outputs": [
    {
     "name": "stdout",
     "output_type": "stream",
     "text": [
      "Precision at threshold 0.2957101129327625: 0.8534031413612565\n",
      "Recall at threshold 0.2957101129327625: 1.0\n",
      "True Negative rate at threshold 0.2957101129327625: 0.034482758620689655\n",
      "Number of False Positives 0.2957101129327625: 28\n",
      "Accuracy at threshold 0.2957101129327625: 0.8541666666666666\n"
     ]
    }
   ],
   "source": [
    "results_logr = model_logr.bestModel.transform(test)\n",
    "predvslabel = results_logr.select(\"pred\", \"label\")\n",
    "predvslabel = predvslabel.rdd.map(lambda row: (float(row[\"pred\"][1]), row[\"label\"]))\n",
    "\n",
    "\n",
    "threshold = best_logr_Threshold\n",
    "tp = predvslabel.filter(lambda x: x[0] >= threshold and x[1] == 1.0).count()\n",
    "tn = predvslabel.filter(lambda x: x[0] < threshold and x[1] == 0.0).count()\n",
    "fp = predvslabel.filter(lambda x: x[0] >= threshold and x[1] == 0.0).count()\n",
    "fn = predvslabel.filter(lambda x: x[0] < threshold and x[1] == 1.0).count()\n",
    "\n",
    "precision = tp / (tp + fp)\n",
    "recall = tp / (tp + fn)\n",
    "tnrate = tn / (tn + fp)\n",
    "fprate = fp / (fp + tn)\n",
    "accuracy = (tp + tn) / ( tp + fp + tn + fn)\n",
    "\n",
    "print(\"Precision at threshold {}: {}\".format(threshold, precision))\n",
    "print(\"Recall at threshold {}: {}\".format(threshold, recall))\n",
    "print(\"True Negative rate at threshold {}: {}\".format(threshold, tnrate))\n",
    "print(\"Number of False Positives {}: {}\".format(threshold, fp))\n",
    "print(\"Accuracy at threshold {}: {}\".format(threshold, accuracy))"
   ]
  },
  {
   "cell_type": "markdown",
   "id": "0d26c956",
   "metadata": {},
   "source": [
    "## Decision Tree"
   ]
  },
  {
   "cell_type": "code",
   "execution_count": 18,
   "id": "ecc4a0aa",
   "metadata": {},
   "outputs": [],
   "source": [
    "#tuning of hyperparameters decision tree\n",
    "from pyspark.ml.evaluation import BinaryClassificationEvaluator\n",
    "from pyspark.ml.tuning import ParamGridBuilder, TrainValidationSplit\n",
    "paramGrid = ParamGridBuilder() \\\n",
    "    .addGrid(word2vec.vectorSize, [1,2, 3, 4, 5,6,7,8,9,10]) \\\n",
    "    .addGrid(dt.maxDepth, [3,4,5,6,7,8,9]) \\\n",
    "    .build()\n",
    "\n",
    "tvs_dt = TrainValidationSplit(estimator=pipeline_dt,\n",
    "                           estimatorParamMaps=paramGrid,\n",
    "                           evaluator=BinaryClassificationEvaluator(),\n",
    "                           # 80% of the data will be used for training, 20% for validation.\n",
    "                           trainRatio=0.8)\n",
    "model_dt = tvs_dt.fit(train)"
   ]
  },
  {
   "cell_type": "code",
   "execution_count": 19,
   "id": "7cdeae05",
   "metadata": {},
   "outputs": [
    {
     "name": "stdout",
     "output_type": "stream",
     "text": [
      "AUPRC:  0.8924927285797553\n"
     ]
    }
   ],
   "source": [
    "#Calculate area under Precision-Recall curve\n",
    "results_dt = model_dt.transform(test)\n",
    "evaluator = BinaryClassificationEvaluator(labelCol=\"label\", rawPredictionCol =\"rawPrediction\", metricName=\"areaUnderPR\")\n",
    "\n",
    "aupr_dt = evaluator.evaluate(results_dt)\n",
    "print(\"AUPRC: \",aupr_dt)"
   ]
  },
  {
   "cell_type": "code",
   "execution_count": 20,
   "id": "09af9cdf",
   "metadata": {},
   "outputs": [
    {
     "name": "stdout",
     "output_type": "stream",
     "text": [
      "Best word2vec dimension:  4\n",
      "Best decision tree max depth:  8\n"
     ]
    }
   ],
   "source": [
    "#Best Model Parameters\n",
    "best_model = model_dt.bestModel\n",
    "best_word2vec_param = best_model.stages[5].extractParamMap().get(word2vec.vectorSize)\n",
    "best_dt_maxdepth = best_model.stages[9].extractParamMap().get(dt.maxDepth)\n",
    "\n",
    "print(\"Best word2vec dimension: \", best_word2vec_param )\n",
    "print(\"Best decision tree max depth: \", best_dt_maxdepth)"
   ]
  },
  {
   "cell_type": "code",
   "execution_count": 21,
   "id": "d04cd812",
   "metadata": {},
   "outputs": [
    {
     "name": "stdout",
     "output_type": "stream",
     "text": [
      "Precision at threshold 0.5: 0.8466666666666667\n",
      "Recall at threshold 0.5: 0.7791411042944786\n",
      "True Negative rate at threshold 0.5: 0.20689655172413793\n",
      "Number of False Positives at threshold 0.5: 23\n",
      "Accuracy at threshold 0.5: 0.6927083333333334\n"
     ]
    }
   ],
   "source": [
    "# binary classification metrics\n",
    "predvslabel = results_dt.select(\"prediction\", \"label\")\n",
    "predvslabel = predvslabel.rdd.map(lambda row: (float(row[\"prediction\"]), row[\"label\"]))\n",
    "\n",
    "threshold =0.5\n",
    "tp = predvslabel.filter(lambda x: x[0] >= threshold and x[1] == 1.0).count()\n",
    "tn = predvslabel.filter(lambda x: x[0] < threshold and x[1] == 0.0).count()\n",
    "fp = predvslabel.filter(lambda x: x[0] >= threshold and x[1] == 0.0).count()\n",
    "fn = predvslabel.filter(lambda x: x[0] < threshold and x[1] == 1.0).count()\n",
    "\n",
    "precision = tp / (tp + fp)\n",
    "recall = tp / (tp + fn)\n",
    "tnrate = tn / (tn + fp)\n",
    "fprate = fp / (fp + tn)\n",
    "accuracy = (tp + tn) / ( tp + fp + tn + fn)\n",
    "\n",
    "print(\"Precision at threshold {}: {}\".format(threshold, precision))\n",
    "print(\"Recall at threshold {}: {}\".format(threshold, recall))\n",
    "print(\"True Negative rate at threshold {}: {}\".format(threshold, tnrate))\n",
    "print(\"Number of False Positives at threshold {}: {}\".format(threshold, fp))\n",
    "print(\"Accuracy at threshold {}: {}\".format(threshold, accuracy))"
   ]
  },
  {
   "cell_type": "markdown",
   "id": "98250ab2",
   "metadata": {},
   "source": [
    "## Random Forest"
   ]
  },
  {
   "cell_type": "code",
   "execution_count": 22,
   "id": "c0191e34",
   "metadata": {},
   "outputs": [],
   "source": [
    "#tuning of hyperparameters random forest\n",
    "from pyspark.ml.evaluation import BinaryClassificationEvaluator\n",
    "from pyspark.ml.tuning import ParamGridBuilder, TrainValidationSplit\n",
    "paramGrid = ParamGridBuilder() \\\n",
    "    .addGrid(word2vec.vectorSize, [1,2, 3, 4, 5,6,7,8,9,10]) \\\n",
    "    .addGrid(rf.maxDepth, [4,5,6,7,8,9,10]) \\\n",
    "    .addGrid(rf.numTrees, [5,10,20,50]) \\\n",
    "    .build()\n",
    "\n",
    "tvs_rf = TrainValidationSplit(estimator=pipeline_rf,\n",
    "                           estimatorParamMaps=paramGrid,\n",
    "                           evaluator=BinaryClassificationEvaluator(),\n",
    "                           # 80% of the data will be used for training, 20% for validation.\n",
    "                           trainRatio=0.8)\n",
    "model_rf = tvs_rf.fit(train)"
   ]
  },
  {
   "cell_type": "code",
   "execution_count": 23,
   "id": "242ffd8c",
   "metadata": {},
   "outputs": [
    {
     "name": "stdout",
     "output_type": "stream",
     "text": [
      "AUPRC:  0.9347304465979542\n"
     ]
    }
   ],
   "source": [
    "#Calculate area under Precision-Recall curve\n",
    "results_rf = model_rf.transform(test)\n",
    "evaluator = BinaryClassificationEvaluator(labelCol=\"label\", rawPredictionCol =\"pred\", metricName=\"areaUnderPR\")\n",
    "\n",
    "aupr_rf = evaluator.evaluate(results_rf)\n",
    "print(\"AUPRC: \",aupr_rf)"
   ]
  },
  {
   "cell_type": "code",
   "execution_count": 24,
   "id": "e737fac5",
   "metadata": {},
   "outputs": [
    {
     "name": "stdout",
     "output_type": "stream",
     "text": [
      "Best word2vec dimension:  4\n",
      "Best number of trees  10\n",
      "Best max tree depth 4\n"
     ]
    }
   ],
   "source": [
    "#Best Model Parameters\n",
    "best_model = model_rf.bestModel\n",
    "best_word2vec_param = best_model.stages[5].extractParamMap().get(word2vec.vectorSize)\n",
    "best_rf_numtrees = best_model.stages[9].extractParamMap().get(rf.numTrees)\n",
    "best_rf_treedepth = best_model.stages[9].extractParamMap().get(rf.maxDepth)\n",
    "\n",
    "print(\"Best word2vec dimension: \", best_word2vec_param )\n",
    "print(\"Best number of trees \", best_rf_numtrees)\n",
    "print(\"Best max tree depth\", best_rf_treedepth)"
   ]
  },
  {
   "cell_type": "code",
   "execution_count": 25,
   "id": "286f8368",
   "metadata": {},
   "outputs": [
    {
     "name": "stdout",
     "output_type": "stream",
     "text": [
      "0.6599788434082428\n"
     ]
    }
   ],
   "source": [
    "#calculate best threshold and set model to use it\n",
    "training_summary_rf = model_rf.bestModel.stages[9].summary\n",
    "fMeasure = training_summary_rf.fMeasureByThreshold\n",
    "maxFMeasure = fMeasure.groupBy().max('F-Measure').select('max(F-Measure)').head()\n",
    "best_rf_Threshold = fMeasure.where(fMeasure['F-Measure'] == maxFMeasure['max(F-Measure)']) \\\n",
    "    .select('threshold').head()['threshold']\n",
    "print(best_rf_Threshold)"
   ]
  },
  {
   "cell_type": "code",
   "execution_count": 26,
   "id": "a9610cdb",
   "metadata": {},
   "outputs": [
    {
     "data": {
      "text/plain": [
       "RandomForestClassificationModel: uid=RandomForestClassifier_0ed705888e8f, numTrees=10, numClasses=2, numFeatures=5"
      ]
     },
     "execution_count": 26,
     "metadata": {},
     "output_type": "execute_result"
    }
   ],
   "source": [
    "model_rf.bestModel.stages[9].setThresholds([0.0,best_rf_Threshold])"
   ]
  },
  {
   "cell_type": "code",
   "execution_count": 27,
   "id": "9e1369c0",
   "metadata": {},
   "outputs": [
    {
     "name": "stdout",
     "output_type": "stream",
     "text": [
      "Precision at threshold 0.6599788434082428: 0.864406779661017\n",
      "Recall at threshold 0.6599788434082428: 0.9386503067484663\n",
      "True Negative rate at threshold 0.6599788434082428: 0.1724137931034483\n",
      "Number of False Positives at threshold 0.6599788434082428: 24\n",
      "Accuracy at threshold 0.6599788434082428: 0.8229166666666666\n"
     ]
    }
   ],
   "source": [
    "# binary classification metrics\n",
    "results_rf = model_rf.bestModel.transform(test)\n",
    "predvslabel = results_rf.select(\"pred\", \"label\")\n",
    "predvslabel = predvslabel.rdd.map(lambda row: (float(row[\"pred\"][1]), row[\"label\"]))\n",
    "\n",
    "\n",
    "threshold = best_rf_Threshold\n",
    "tp = predvslabel.filter(lambda x: x[0] >= threshold and x[1] == 1.0).count()\n",
    "tn = predvslabel.filter(lambda x: x[0] < threshold and x[1] == 0.0).count()\n",
    "fp = predvslabel.filter(lambda x: x[0] >= threshold and x[1] == 0.0).count()\n",
    "fn = predvslabel.filter(lambda x: x[0] < threshold and x[1] == 1.0).count()\n",
    "\n",
    "precision = tp / (tp + fp)\n",
    "recall = tp / (tp + fn)\n",
    "tnrate = tn / (tn + fp)\n",
    "fprate = fp / (fp + tn)\n",
    "accuracy = (tp + tn) / ( tp + fp + tn + fn)\n",
    "\n",
    "print(\"Precision at threshold {}: {}\".format(threshold, precision))\n",
    "print(\"Recall at threshold {}: {}\".format(threshold, recall))\n",
    "print(\"True Negative rate at threshold {}: {}\".format(threshold, tnrate))\n",
    "print(\"Number of False Positives at threshold {}: {}\".format(threshold, fp))\n",
    "print(\"Accuracy at threshold {}: {}\".format(threshold, accuracy))"
   ]
  },
  {
   "cell_type": "code",
   "execution_count": 28,
   "id": "fed11fd9",
   "metadata": {},
   "outputs": [
    {
     "data": {
      "image/png": "[encoded data removed]",
      "text/plain": [
       "<Figure size 640x480 with 1 Axes>"
      ]
     },
     "metadata": {},
     "output_type": "display_data"
    }
   ],
   "source": [
    "#precision-recall curve\n",
    "import numpy as np\n",
    "\n",
    "# Extracting probabilities and labels from PySpark DataFrame\n",
    "probs = np.array(results_rf.select(\"pred\").collect())\n",
    "labels = np.array(results_rf.select(\"label\").collect())\n",
    "\n",
    "# Extracting predicted probabilities for positive class\n",
    "positive_probs = probs[:,:,1]\n",
    "\n",
    "from sklearn.metrics import precision_recall_curve\n",
    "\n",
    "precision, recall, thresholds = precision_recall_curve(labels, positive_probs)\n",
    "\n",
    "import matplotlib.pyplot as plt\n",
    "\n",
    "# Plotting the precision-recall curve\n",
    "plt.plot(recall, precision)\n",
    "plt.xlabel(\"Recall\")\n",
    "plt.ylabel(\"Precision\")\n",
    "plt.title(\"Precision-Recall Curve\")\n",
    "plt.show()"
   ]
  },
  {
   "cell_type": "markdown",
   "id": "9c80ee78",
   "metadata": {},
   "source": [
    "## Gradient-Boosted Tree"
   ]
  },
  {
   "cell_type": "code",
   "execution_count": 29,
   "id": "3121d3b4",
   "metadata": {},
   "outputs": [],
   "source": [
    "#tuning of hyperparameters Gradient-Boosted Tree\n",
    "from pyspark.ml.evaluation import BinaryClassificationEvaluator\n",
    "from pyspark.ml.tuning import ParamGridBuilder, TrainValidationSplit\n",
    "paramGrid = ParamGridBuilder() \\\n",
    "    .addGrid(word2vec.vectorSize, [2,3,4,5,6,7]) \\\n",
    "    .addGrid(gbt.maxDepth, [4,5,6,7]) \\\n",
    "    .build()\n",
    "\n",
    "tvs_gbt = TrainValidationSplit(estimator=pipeline_gbt,\n",
    "                           estimatorParamMaps=paramGrid,\n",
    "                           evaluator=BinaryClassificationEvaluator(),\n",
    "                           # 80% of the data will be used for training, 20% for validation.\n",
    "                           trainRatio=0.8)\n",
    "model_gbt = tvs_gbt.fit(train)"
   ]
  },
  {
   "cell_type": "code",
   "execution_count": 30,
   "id": "8b003289",
   "metadata": {},
   "outputs": [
    {
     "name": "stdout",
     "output_type": "stream",
     "text": [
      "AUPRC:  0.9071359657041874\n"
     ]
    }
   ],
   "source": [
    "#Calculate area under Precision-Recall curve\n",
    "results_gbt = model_gbt.transform(test)\n",
    "evaluator = BinaryClassificationEvaluator(labelCol=\"label\", rawPredictionCol =\"pred\", metricName=\"areaUnderPR\")\n",
    "\n",
    "aupr_gbt = evaluator.evaluate(results_gbt)\n",
    "print(\"AUPRC: \",aupr_gbt)"
   ]
  },
  {
   "cell_type": "code",
   "execution_count": 31,
   "id": "80c8ca03",
   "metadata": {},
   "outputs": [
    {
     "name": "stdout",
     "output_type": "stream",
     "text": [
      "Best word2vec dimension:  4\n",
      "Best max tree depth 5\n"
     ]
    }
   ],
   "source": [
    "#Best Model Parameters\n",
    "best_model = model_gbt.bestModel\n",
    "best_word2vec_param = best_model.stages[5].extractParamMap().get(word2vec.vectorSize)\n",
    "best_gbt_treedepth = best_model.stages[9].extractParamMap().get(gbt.maxDepth)\n",
    "\n",
    "print(\"Best word2vec dimension: \", best_word2vec_param )\n",
    "print(\"Best max tree depth\", best_gbt_treedepth)"
   ]
  },
  {
   "cell_type": "code",
   "execution_count": 32,
   "id": "e789557d",
   "metadata": {},
   "outputs": [
    {
     "name": "stdout",
     "output_type": "stream",
     "text": [
      "Precision at threshold 0.5: 0.8795180722891566\n",
      "Recall at threshold 0.5: 0.8957055214723927\n",
      "True Negative rate at threshold 0.5: 0.3103448275862069\n",
      "Number of False Positives at threshold 0.5: 20\n",
      "Accuracy at threshold 0.5: 0.8072916666666666\n"
     ]
    }
   ],
   "source": [
    "# binary classification metrics\n",
    "results_gbt = model_gbt.bestModel.transform(test)\n",
    "predvslabel = results_gbt.select(\"prediction\", \"label\")\n",
    "predvslabel = predvslabel.rdd.map(lambda row: (float(row[\"prediction\"]), row[\"label\"]))\n",
    "\n",
    "\n",
    "threshold = 0.5\n",
    "tp = predvslabel.filter(lambda x: x[0] >= threshold and x[1] == 1.0).count()\n",
    "tn = predvslabel.filter(lambda x: x[0] < threshold and x[1] == 0.0).count()\n",
    "fp = predvslabel.filter(lambda x: x[0] >= threshold and x[1] == 0.0).count()\n",
    "fn = predvslabel.filter(lambda x: x[0] < threshold and x[1] == 1.0).count()\n",
    "\n",
    "precision = tp / (tp + fp)\n",
    "recall = tp / (tp + fn)\n",
    "tnrate = tn / (tn + fp)\n",
    "fprate = fp / (fp + tn)\n",
    "accuracy = (tp + tn) / ( tp + fp + tn + fn)\n",
    "\n",
    "print(\"Precision at threshold {}: {}\".format(threshold, precision))\n",
    "print(\"Recall at threshold {}: {}\".format(threshold, recall))\n",
    "print(\"True Negative rate at threshold {}: {}\".format(threshold, tnrate))\n",
    "print(\"Number of False Positives at threshold {}: {}\".format(threshold, fp))\n",
    "print(\"Accuracy at threshold {}: {}\".format(threshold, accuracy))"
   ]
  },
  {
   "cell_type": "markdown",
   "id": "68fb1334",
   "metadata": {},
   "source": [
    "## Multi-Layer Perceptron"
   ]
  },
  {
   "cell_type": "code",
   "execution_count": 20,
   "id": "fae41229",
   "metadata": {},
   "outputs": [],
   "source": [
    "#tuning of hyperparameters multi-layer perceptron\n",
    "from pyspark.ml.evaluation import BinaryClassificationEvaluator\n",
    "from pyspark.ml.tuning import ParamGridBuilder, TrainValidationSplit\n",
    "layers1 = [8,2]\n",
    "layers2 = [8,5,2]\n",
    "layers3 = [8,8,2]\n",
    "layers4 = [8,8,5,2]\n",
    "\n",
    "paramGrid = ParamGridBuilder() \\\n",
    "    .addGrid(word2vec.vectorSize, [7]) \\\n",
    "    .addGrid(mlp.layers, [layers1,layers2,layers3,layers4]) \\\n",
    "    .build()\n",
    "\n",
    "tvs_mlp = TrainValidationSplit(estimator=pipeline_mlp,\n",
    "                           estimatorParamMaps=paramGrid,\n",
    "                           evaluator=BinaryClassificationEvaluator(),\n",
    "                           # 80% of the data will be used for training, 20% for validation.\n",
    "                           trainRatio=0.8)\n",
    "model_mlp = tvs_mlp.fit(train)"
   ]
  },
  {
   "cell_type": "code",
   "execution_count": 21,
   "id": "98d75d46",
   "metadata": {},
   "outputs": [
    {
     "name": "stdout",
     "output_type": "stream",
     "text": [
      "AUPRC:  0.18414778002393095\n"
     ]
    }
   ],
   "source": [
    "#Calculate area under Precision-Recall curve\n",
    "results_mlp = model_mlp.transform(test)\n",
    "evaluator = BinaryClassificationEvaluator(labelCol=\"label\", rawPredictionCol =\"rawPrediction\", metricName=\"areaUnderPR\")\n",
    "\n",
    "aupr_mlp = evaluator.evaluate(results_mlp)\n",
    "print(\"AUPRC: \",aupr_mlp)"
   ]
  },
  {
   "cell_type": "code",
   "execution_count": 15,
   "id": "d822f603",
   "metadata": {},
   "outputs": [
    {
     "name": "stdout",
     "output_type": "stream",
     "text": [
      "Best layer configuration  [100, 50, 2]\n"
     ]
    }
   ],
   "source": [
    "#Best Model Parameters\n",
    "best_model = model_mlp.bestModel\n",
    "best_layers = best_model.stages[9].extractParamMap().get(mlp.layers)\n",
    "\n",
    "print(\"Best layer configuration \", best_layers)"
   ]
  },
  {
   "cell_type": "code",
   "execution_count": 16,
   "id": "6231d362",
   "metadata": {},
   "outputs": [
    {
     "name": "stdout",
     "output_type": "stream",
     "text": [
      "Precision at threshold 0.5: 0.8449197860962567\n",
      "Recall at threshold 0.5: 0.9693251533742331\n",
      "True Negative rate at threshold 0.5: 0.0\n",
      "Number of False Positives at threshold 0.5: 29\n",
      "Accuracy at threshold 0.5: 0.8229166666666666\n"
     ]
    }
   ],
   "source": [
    "# binary classification metrics\n",
    "results_mlp = model_mlp.bestModel.transform(test)\n",
    "predvslabel = results_mlp.select(\"prediction\", \"label\")\n",
    "predvslabel = predvslabel.rdd.map(lambda row: (float(row[\"prediction\"]), row[\"label\"]))\n",
    "\n",
    "\n",
    "threshold = 0.5\n",
    "tp = predvslabel.filter(lambda x: x[0] >= threshold and x[1] == 1.0).count()\n",
    "tn = predvslabel.filter(lambda x: x[0] < threshold and x[1] == 0.0).count()\n",
    "fp = predvslabel.filter(lambda x: x[0] >= threshold and x[1] == 0.0).count()\n",
    "fn = predvslabel.filter(lambda x: x[0] < threshold and x[1] == 1.0).count()\n",
    "\n",
    "precision = tp / (tp + fp)\n",
    "recall = tp / (tp + fn)\n",
    "tnrate = tn / (tn + fp)\n",
    "fprate = fp / (fp + tn)\n",
    "accuracy = (tp + tn) / ( tp + fp + tn + fn)\n",
    "\n",
    "print(\"Precision at threshold {}: {}\".format(threshold, precision))\n",
    "print(\"Recall at threshold {}: {}\".format(threshold, recall))\n",
    "print(\"True Negative rate at threshold {}: {}\".format(threshold, tnrate))\n",
    "print(\"Number of False Positives at threshold {}: {}\".format(threshold, fp))\n",
    "print(\"Accuracy at threshold {}: {}\".format(threshold, accuracy))"
   ]
  },
  {
   "cell_type": "markdown",
   "id": "5cbe2616",
   "metadata": {},
   "source": [
    "# Final Model"
   ]
  },
  {
   "cell_type": "markdown",
   "id": "49881581",
   "metadata": {},
   "source": [
    "#### Results\n",
    "\n",
    "\n",
    "##### Logistic Regression\n",
    "AUPRC:  0.8819122209694511\n",
    "\n",
    "Precision at threshold 0.2957101129327625: 0.8534031413612565\\\n",
    "Recall at threshold 0.2957101129327625: 1.0\\\n",
    "True Negative rate at threshold 0.2957101129327625: 0.034482758620689655\\\n",
    "Number of False Positives 0.2957101129327625: 28\\\n",
    "Accuracy at threshold 0.2957101129327625: 0.8541666666666666\n",
    "##### Decision Tree\n",
    "AUPRC:  0.8924927285797553\n",
    "\n",
    "Precision at threshold 0.5: 0.8466666666666667\\\n",
    "Recall at threshold 0.5: 0.7791411042944786\\\n",
    "True Negative rate at threshold 0.5: 0.20689655172413793\\\n",
    "Number of False Positives at threshold 0.5: 23\\\n",
    "Accuracy at threshold 0.5: 0.6927083333333334\n",
    "##### Random Forest\n",
    "AUPRC:  0.9347304465979542\n",
    "\n",
    "Precision at threshold 0.6599788434082428: 0.864406779661017\\\n",
    "Recall at threshold 0.6599788434082428: 0.9386503067484663\\\n",
    "True Negative rate at threshold 0.6599788434082428: 0.1724137931034483\\\n",
    "Number of False Positives at threshold 0.6599788434082428: 24\\\n",
    "Accuracy at threshold 0.6599788434082428: 0.8229166666666666\n",
    "##### Gradient-Booosted Tree\n",
    "AUPRC:  0.9071359657041874\n",
    "\n",
    "Precision at threshold 0.5: 0.8795180722891566\\\n",
    "Recall at threshold 0.5: 0.8957055214723927\\\n",
    "True Negative rate at threshold 0.5: 0.3103448275862069\\\n",
    "Number of False Positives at threshold 0.5: 20\\\n",
    "Accuracy at threshold 0.5: 0.8072916666666666\n",
    "##### Multi-Layer  Perceptron\n",
    "AUPRC:  0.8359012114886114\n",
    "\n",
    "Precision at threshold 0.5: 0.8489583333333334\\\n",
    "Recall at threshold 0.5: 1.0\\\n",
    "True Negative rate at threshold 0.5: 0.0\\\n",
    "Number of False Positives at threshold 0.5: 29\\\n",
    "Accuracy at threshold 0.5: 0.8489583333333334"
   ]
  },
  {
   "cell_type": "code",
   "execution_count": 38,
   "id": "134e66bd",
   "metadata": {},
   "outputs": [],
   "source": [
    "#Final estimator : gbt, best true-negative rate and good precision/recall\n",
    "\n",
    "word2vec = Word2Vec(vectorSize=4, minCount=0, inputCol=\"filtered_words\", outputCol=\"vectors\")\n",
    "\n",
    "gbt = GBTClassifier(labelCol=\"label\", featuresCol=\"features\", seed=1234)\n",
    "gbt = gbt.setMaxIter(20)\n",
    "gbt = gbt.setProbabilityCol(\"pred\")\n",
    "gbt = gbt.setMaxDepth(4)\n",
    "\n",
    "pipeline_gbt = Pipeline(stages=[un_newline_inator,un_junk_inator,tokenizer,remover,\n",
    "                               length_inator,word2vec,assembler,strindex,\n",
    "                               final_features_inator, gbt])\n",
    "\n",
    "final_model = pipeline_gbt.fit(df_small)"
   ]
  },
  {
   "cell_type": "code",
   "execution_count": 39,
   "id": "06438026",
   "metadata": {},
   "outputs": [],
   "source": [
    "results_final = final_model.transform(df)"
   ]
  },
  {
   "cell_type": "code",
   "execution_count": 40,
   "id": "df47f983",
   "metadata": {},
   "outputs": [],
   "source": [
    "#save model\n",
    "final_model.save(r\"C:\\Users\\jef-w\\Desktop\\Uni\\KUL\\Year_1\\Advanced_Analytics\\Assignments\\Assignment_3\\spark\\notebooks\\GBT_Model\")"
   ]
  },
  {
   "cell_type": "code",
   "execution_count": null,
   "id": "f02469f0",
   "metadata": {},
   "outputs": [],
   "source": []
  }
 ],
 "metadata": {
  "kernelspec": {
   "display_name": "Python 3 (ipykernel)",
   "language": "python",
   "name": "python3"
  },
  "language_info": {
   "codemirror_mode": {
    "name": "ipython",
    "version": 3
   },
   "file_extension": ".py",
   "mimetype": "text/x-python",
   "name": "python",
   "nbconvert_exporter": "python",
   "pygments_lexer": "ipython3",
   "version": "3.10.10"
  }
 },
 "nbformat": 4,
 "nbformat_minor": 5
}
